{
 "cells": [
  {
   "cell_type": "raw",
   "id": "eced4b74",
   "metadata": {},
   "source": [
    "1. list can not perform operation on bulk of data togather but nd-array(numpy array)does.\n",
    "2. nd-array is faster then python list"
   ]
  },
  {
   "cell_type": "markdown",
   "id": "4d014158",
   "metadata": {},
   "source": [
    "# List Performance"
   ]
  },
  {
   "cell_type": "code",
   "execution_count": 3,
   "id": "09939de8",
   "metadata": {},
   "outputs": [
    {
     "ename": "TypeError",
     "evalue": "can only concatenate list (not \"int\") to list",
     "output_type": "error",
     "traceback": [
      "\u001b[1;31m---------------------------------------------------------------------------\u001b[0m",
      "\u001b[1;31mTypeError\u001b[0m                                 Traceback (most recent call last)",
      "Cell \u001b[1;32mIn[3], line 4\u001b[0m\n\u001b[0;32m      1\u001b[0m \u001b[38;5;66;03m# list operation\u001b[39;00m\n\u001b[0;32m      3\u001b[0m l \u001b[38;5;241m=\u001b[39m [\u001b[38;5;241m2\u001b[39m,\u001b[38;5;241m3\u001b[39m,\u001b[38;5;241m4\u001b[39m]\n\u001b[1;32m----> 4\u001b[0m \u001b[43ml\u001b[49m\u001b[43m \u001b[49m\u001b[38;5;241;43m+\u001b[39;49m\u001b[43m \u001b[49m\u001b[38;5;241;43m2\u001b[39;49m\n",
      "\u001b[1;31mTypeError\u001b[0m: can only concatenate list (not \"int\") to list"
     ]
    }
   ],
   "source": [
    "# list operation\n",
    "\n",
    "l = [2,3,4]\n",
    "l + 2"
   ]
  },
  {
   "cell_type": "code",
   "execution_count": 4,
   "id": "47e92f67",
   "metadata": {},
   "outputs": [
    {
     "data": {
      "text/plain": [
       "[2, 3, 4, 2, 3, 4]"
      ]
     },
     "execution_count": 4,
     "metadata": {},
     "output_type": "execute_result"
    }
   ],
   "source": [
    "l + l"
   ]
  },
  {
   "cell_type": "code",
   "execution_count": 5,
   "id": "b63e28ed",
   "metadata": {},
   "outputs": [
    {
     "name": "stdout",
     "output_type": "stream",
     "text": [
      "265 ns ± 6.32 ns per loop (mean ± std. dev. of 7 runs, 1,000,000 loops each)\n"
     ]
    }
   ],
   "source": [
    "%%timeit\n",
    "#time\n",
    "\n",
    "[i+2 for i in l]"
   ]
  },
  {
   "cell_type": "markdown",
   "id": "9e6394c9",
   "metadata": {},
   "source": [
    "# Numpy Performacwe"
   ]
  },
  {
   "cell_type": "code",
   "execution_count": 7,
   "id": "a29d7fc4",
   "metadata": {},
   "outputs": [
    {
     "data": {
      "text/plain": [
       "array([2, 3, 4])"
      ]
     },
     "execution_count": 7,
     "metadata": {},
     "output_type": "execute_result"
    }
   ],
   "source": [
    "import numpy as np\n",
    "arr = np.array(l)\n",
    "arr"
   ]
  },
  {
   "cell_type": "code",
   "execution_count": 8,
   "id": "41836db1",
   "metadata": {},
   "outputs": [
    {
     "name": "stdout",
     "output_type": "stream",
     "text": [
      "CPU times: total: 0 ns\n",
      "Wall time: 0 ns\n"
     ]
    },
    {
     "data": {
      "text/plain": [
       "array([4, 5, 6])"
      ]
     },
     "execution_count": 8,
     "metadata": {},
     "output_type": "execute_result"
    }
   ],
   "source": [
    "%%time\n",
    "arr + 2"
   ]
  },
  {
   "cell_type": "markdown",
   "id": "02516acb",
   "metadata": {},
   "source": [
    "# why numpy is faster"
   ]
  },
  {
   "cell_type": "markdown",
   "id": "b8d5683a",
   "metadata": {},
   "source": [
    "1. numpy wriiten in lower level language like c, c++\n",
    "2. python use api of c to use numpy"
   ]
  },
  {
   "cell_type": "markdown",
   "id": "4226e71c",
   "metadata": {},
   "source": [
    "# Where to use numpy"
   ]
  },
  {
   "cell_type": "markdown",
   "id": "d6f495ca",
   "metadata": {},
   "source": [
    "1. data analysis"
   ]
  },
  {
   "cell_type": "code",
   "execution_count": null,
   "id": "78fa7241",
   "metadata": {},
   "outputs": [],
   "source": []
  }
 ],
 "metadata": {
  "kernelspec": {
   "display_name": "Python 3 (ipykernel)",
   "language": "python",
   "name": "python3"
  },
  "language_info": {
   "codemirror_mode": {
    "name": "ipython",
    "version": 3
   },
   "file_extension": ".py",
   "mimetype": "text/x-python",
   "name": "python",
   "nbconvert_exporter": "python",
   "pygments_lexer": "ipython3",
   "version": "3.11.4"
  }
 },
 "nbformat": 4,
 "nbformat_minor": 5
}
